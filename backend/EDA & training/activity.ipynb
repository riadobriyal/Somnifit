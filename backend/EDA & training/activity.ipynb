{
 "cells": [
  {
   "cell_type": "code",
   "execution_count": 1,
   "id": "2f038344",
   "metadata": {},
   "outputs": [
    {
     "data": {
      "text/html": [
       "<div>\n",
       "<style scoped>\n",
       "    .dataframe tbody tr th:only-of-type {\n",
       "        vertical-align: middle;\n",
       "    }\n",
       "\n",
       "    .dataframe tbody tr th {\n",
       "        vertical-align: top;\n",
       "    }\n",
       "\n",
       "    .dataframe thead th {\n",
       "        text-align: right;\n",
       "    }\n",
       "</style>\n",
       "<table border=\"1\" class=\"dataframe\">\n",
       "  <thead>\n",
       "    <tr style=\"text-align: right;\">\n",
       "      <th></th>\n",
       "      <th>Weight</th>\n",
       "      <th>Height</th>\n",
       "      <th>BMI</th>\n",
       "      <th>Gender</th>\n",
       "      <th>Age</th>\n",
       "      <th>BMIcase</th>\n",
       "      <th>Exercise Recommendation Plan</th>\n",
       "    </tr>\n",
       "  </thead>\n",
       "  <tbody>\n",
       "    <tr>\n",
       "      <th>0</th>\n",
       "      <td>92.085190</td>\n",
       "      <td>1.760250</td>\n",
       "      <td>29.719488</td>\n",
       "      <td>Female</td>\n",
       "      <td>59</td>\n",
       "      <td>over weight</td>\n",
       "      <td>5</td>\n",
       "    </tr>\n",
       "    <tr>\n",
       "      <th>1</th>\n",
       "      <td>61.089124</td>\n",
       "      <td>1.595499</td>\n",
       "      <td>23.997776</td>\n",
       "      <td>Female</td>\n",
       "      <td>25</td>\n",
       "      <td>normal</td>\n",
       "      <td>4</td>\n",
       "    </tr>\n",
       "    <tr>\n",
       "      <th>2</th>\n",
       "      <td>82.454037</td>\n",
       "      <td>1.816538</td>\n",
       "      <td>24.987499</td>\n",
       "      <td>Female</td>\n",
       "      <td>50</td>\n",
       "      <td>normal</td>\n",
       "      <td>4</td>\n",
       "    </tr>\n",
       "    <tr>\n",
       "      <th>3</th>\n",
       "      <td>101.713306</td>\n",
       "      <td>1.790696</td>\n",
       "      <td>31.720047</td>\n",
       "      <td>Female</td>\n",
       "      <td>62</td>\n",
       "      <td>obese</td>\n",
       "      <td>6</td>\n",
       "    </tr>\n",
       "    <tr>\n",
       "      <th>4</th>\n",
       "      <td>99.609527</td>\n",
       "      <td>1.969726</td>\n",
       "      <td>25.673756</td>\n",
       "      <td>Male</td>\n",
       "      <td>57</td>\n",
       "      <td>over weight</td>\n",
       "      <td>5</td>\n",
       "    </tr>\n",
       "  </tbody>\n",
       "</table>\n",
       "</div>"
      ],
      "text/plain": [
       "       Weight    Height        BMI  Gender  Age      BMIcase  \\\n",
       "0   92.085190  1.760250  29.719488  Female   59  over weight   \n",
       "1   61.089124  1.595499  23.997776  Female   25       normal   \n",
       "2   82.454037  1.816538  24.987499  Female   50       normal   \n",
       "3  101.713306  1.790696  31.720047  Female   62        obese   \n",
       "4   99.609527  1.969726  25.673756    Male   57  over weight   \n",
       "\n",
       "   Exercise Recommendation Plan  \n",
       "0                             5  \n",
       "1                             4  \n",
       "2                             4  \n",
       "3                             6  \n",
       "4                             5  "
      ]
     },
     "execution_count": 1,
     "metadata": {},
     "output_type": "execute_result"
    }
   ],
   "source": [
    "import pandas as pd\n",
    "import numpy as np\n",
    "\n",
    "df=pd.read_csv(\"/Users/riadobriyal/Desktop/Somnifit/backend/datasets/final_dataset.csv\")\n",
    "df.head()"
   ]
  },
  {
   "cell_type": "code",
   "execution_count": 2,
   "id": "f9221e71",
   "metadata": {},
   "outputs": [
    {
     "name": "stdout",
     "output_type": "stream",
     "text": [
      "<class 'pandas.core.frame.DataFrame'>\n",
      "RangeIndex: 5000 entries, 0 to 4999\n",
      "Data columns (total 7 columns):\n",
      " #   Column                        Non-Null Count  Dtype  \n",
      "---  ------                        --------------  -----  \n",
      " 0   Weight                        5000 non-null   float64\n",
      " 1   Height                        5000 non-null   float64\n",
      " 2   BMI                           5000 non-null   float64\n",
      " 3   Gender                        5000 non-null   object \n",
      " 4   Age                           5000 non-null   int64  \n",
      " 5   BMIcase                       5000 non-null   object \n",
      " 6   Exercise Recommendation Plan  5000 non-null   int64  \n",
      "dtypes: float64(3), int64(2), object(2)\n",
      "memory usage: 273.6+ KB\n"
     ]
    },
    {
     "data": {
      "text/plain": [
       "Weight                          0\n",
       "Height                          0\n",
       "BMI                             0\n",
       "Gender                          0\n",
       "Age                             0\n",
       "BMIcase                         0\n",
       "Exercise Recommendation Plan    0\n",
       "dtype: int64"
      ]
     },
     "execution_count": 2,
     "metadata": {},
     "output_type": "execute_result"
    }
   ],
   "source": [
    "df.info()\n",
    "df.describe()\n",
    "df.isnull().sum()"
   ]
  },
  {
   "cell_type": "code",
   "execution_count": 3,
   "id": "ff54fb66",
   "metadata": {},
   "outputs": [
    {
     "data": {
      "text/html": [
       "<div>\n",
       "<style scoped>\n",
       "    .dataframe tbody tr th:only-of-type {\n",
       "        vertical-align: middle;\n",
       "    }\n",
       "\n",
       "    .dataframe tbody tr th {\n",
       "        vertical-align: top;\n",
       "    }\n",
       "\n",
       "    .dataframe thead th {\n",
       "        text-align: right;\n",
       "    }\n",
       "</style>\n",
       "<table border=\"1\" class=\"dataframe\">\n",
       "  <thead>\n",
       "    <tr style=\"text-align: right;\">\n",
       "      <th></th>\n",
       "      <th>Weight</th>\n",
       "      <th>Height</th>\n",
       "      <th>BMI</th>\n",
       "      <th>Age</th>\n",
       "      <th>Exercise Recommendation Plan</th>\n",
       "    </tr>\n",
       "  </thead>\n",
       "  <tbody>\n",
       "    <tr>\n",
       "      <th>count</th>\n",
       "      <td>5000.000000</td>\n",
       "      <td>5000.000000</td>\n",
       "      <td>5000.000000</td>\n",
       "      <td>5000.000000</td>\n",
       "      <td>5000.000000</td>\n",
       "    </tr>\n",
       "    <tr>\n",
       "      <th>mean</th>\n",
       "      <td>79.760954</td>\n",
       "      <td>1.761265</td>\n",
       "      <td>25.900955</td>\n",
       "      <td>41.956000</td>\n",
       "      <td>4.823400</td>\n",
       "    </tr>\n",
       "    <tr>\n",
       "      <th>std</th>\n",
       "      <td>17.359682</td>\n",
       "      <td>0.129611</td>\n",
       "      <td>5.678326</td>\n",
       "      <td>14.030361</td>\n",
       "      <td>1.522589</td>\n",
       "    </tr>\n",
       "    <tr>\n",
       "      <th>min</th>\n",
       "      <td>50.002978</td>\n",
       "      <td>1.390171</td>\n",
       "      <td>12.791453</td>\n",
       "      <td>18.000000</td>\n",
       "      <td>1.000000</td>\n",
       "    </tr>\n",
       "    <tr>\n",
       "      <th>25%</th>\n",
       "      <td>64.705890</td>\n",
       "      <td>1.703790</td>\n",
       "      <td>21.501848</td>\n",
       "      <td>30.000000</td>\n",
       "      <td>4.000000</td>\n",
       "    </tr>\n",
       "    <tr>\n",
       "      <th>50%</th>\n",
       "      <td>79.536451</td>\n",
       "      <td>1.776202</td>\n",
       "      <td>26.314692</td>\n",
       "      <td>42.000000</td>\n",
       "      <td>5.000000</td>\n",
       "    </tr>\n",
       "    <tr>\n",
       "      <th>75%</th>\n",
       "      <td>95.102506</td>\n",
       "      <td>1.848437</td>\n",
       "      <td>30.741264</td>\n",
       "      <td>54.000000</td>\n",
       "      <td>6.000000</td>\n",
       "    </tr>\n",
       "    <tr>\n",
       "      <th>max</th>\n",
       "      <td>109.998871</td>\n",
       "      <td>1.979633</td>\n",
       "      <td>34.997098</td>\n",
       "      <td>65.000000</td>\n",
       "      <td>7.000000</td>\n",
       "    </tr>\n",
       "  </tbody>\n",
       "</table>\n",
       "</div>"
      ],
      "text/plain": [
       "            Weight       Height          BMI          Age  \\\n",
       "count  5000.000000  5000.000000  5000.000000  5000.000000   \n",
       "mean     79.760954     1.761265    25.900955    41.956000   \n",
       "std      17.359682     0.129611     5.678326    14.030361   \n",
       "min      50.002978     1.390171    12.791453    18.000000   \n",
       "25%      64.705890     1.703790    21.501848    30.000000   \n",
       "50%      79.536451     1.776202    26.314692    42.000000   \n",
       "75%      95.102506     1.848437    30.741264    54.000000   \n",
       "max     109.998871     1.979633    34.997098    65.000000   \n",
       "\n",
       "       Exercise Recommendation Plan  \n",
       "count                   5000.000000  \n",
       "mean                       4.823400  \n",
       "std                        1.522589  \n",
       "min                        1.000000  \n",
       "25%                        4.000000  \n",
       "50%                        5.000000  \n",
       "75%                        6.000000  \n",
       "max                        7.000000  "
      ]
     },
     "execution_count": 3,
     "metadata": {},
     "output_type": "execute_result"
    }
   ],
   "source": [
    "df.describe()"
   ]
  },
  {
   "cell_type": "code",
   "execution_count": 4,
   "id": "ef4b2c15",
   "metadata": {},
   "outputs": [
    {
     "data": {
      "text/plain": [
       "0"
      ]
     },
     "execution_count": 4,
     "metadata": {},
     "output_type": "execute_result"
    }
   ],
   "source": [
    "df.duplicated().sum()\n"
   ]
  },
  {
   "cell_type": "code",
   "execution_count": null,
   "id": "de832c58",
   "metadata": {},
   "outputs": [],
   "source": []
  }
 ],
 "metadata": {
  "kernelspec": {
   "display_name": "base",
   "language": "python",
   "name": "python3"
  },
  "language_info": {
   "codemirror_mode": {
    "name": "ipython",
    "version": 3
   },
   "file_extension": ".py",
   "mimetype": "text/x-python",
   "name": "python",
   "nbconvert_exporter": "python",
   "pygments_lexer": "ipython3",
   "version": "3.12.7"
  }
 },
 "nbformat": 4,
 "nbformat_minor": 5
}
